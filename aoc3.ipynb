{
 "cells": [
  {
   "cell_type": "code",
   "execution_count": null,
   "id": "371e9035",
   "metadata": {},
   "outputs": [],
   "source": [
    "import os \n",
    "import numpy as np\n",
    "\n",
    "PATH = '/Users/xuyaozhang/Desktop/AdventofCode2022/input'\n",
    "\n",
    "def split_string(x):\n",
    "    chunks, chunk_size = len(x), len(x)//2\n",
    "    return [x[i:i+chunk_size] for i in range(0, chunks, chunk_size)]\n",
    "\n",
    "def read_txt(filename):\n",
    "    with open(filename) as file:\n",
    "        lines = file.readlines()\n",
    "        lines = [split_string(line.rstrip()) for line in lines]\n",
    "\n",
    "    return lines \n",
    "\n",
    "def read_txt2(filename):\n",
    "    with open(filename) as file:\n",
    "        lines = file.readlines()\n",
    "        lines = [line.rstrip() for line in lines]\n",
    "        split = np.array(lines).reshape(-1, 3).tolist() \n",
    "\n",
    "    return split\n",
    "\n",
    "def encodeLetter(letter):\n",
    "    return ord(letter)-96 if letter.islower() else ord(letter)-38"
   ]
  },
  {
   "cell_type": "code",
   "execution_count": null,
   "id": "54b11c35",
   "metadata": {},
   "outputs": [],
   "source": [
    "def solution1(filename):\n",
    "    fn = os.path.join(PATH, '', filename)\n",
    "    lines = read_txt(fn)\n",
    "    res=[]\n",
    "    for sub in lines:\n",
    "        letter=list(set(sub[0])&set(sub[1]))\n",
    "        res = res + [encodeLetter(l) for l in letter]\n",
    "    return sum(res)\n",
    "\n",
    "print(solution1('day3.txt'))"
   ]
  },
  {
   "cell_type": "code",
   "execution_count": null,
   "id": "d28958a8",
   "metadata": {},
   "outputs": [],
   "source": [
    "def solution2(filename):\n",
    "    fn = os.path.join(PATH, '', filename)\n",
    "    lines = read_txt2(fn)\n",
    "    res=[]\n",
    "    for sub in lines:\n",
    "        letter=list(set(sub[0])&set(sub[1])&set(sub[2]))\n",
    "        res = res + [encodeLetter(l) for l in letter]\n",
    "    return sum(res)\n",
    "\n",
    "print(solution2('day3.txt'))"
   ]
  }
 ],
 "metadata": {
  "kernelspec": {
   "display_name": "Python 3",
   "language": "python",
   "name": "python3"
  },
  "language_info": {
   "codemirror_mode": {
    "name": "ipython",
    "version": 3
   },
   "file_extension": ".py",
   "mimetype": "text/x-python",
   "name": "python",
   "nbconvert_exporter": "python",
   "pygments_lexer": "ipython3",
   "version": "3.9.5"
  }
 },
 "nbformat": 4,
 "nbformat_minor": 5
}
