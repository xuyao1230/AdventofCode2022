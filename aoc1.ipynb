{
 "cells": [
  {
   "cell_type": "code",
   "execution_count": 33,
   "id": "91001fcb",
   "metadata": {},
   "outputs": [],
   "source": [
    "import os \n",
    "\n",
    "PATH = '/Users/xuyaozhang/Desktop/input'\n",
    "\n",
    "def read_txt(filename):\n",
    "    with open(filename) as file:\n",
    "        lines = file.readlines()\n",
    "        lines = [int(line.rstrip()) if line != '\\n' else 0 for line in lines]\n",
    "\n",
    "    return lines \n",
    "\n",
    "def find_indices(list_to_check, item_to_find):\n",
    "    return [idx for idx, value in enumerate(list_to_check) if value == item_to_find]"
   ]
  },
  {
   "cell_type": "code",
   "execution_count": 37,
   "id": "4457e87a",
   "metadata": {},
   "outputs": [
    {
     "name": "stdout",
     "output_type": "stream",
     "text": [
      "211189\n"
     ]
    }
   ],
   "source": [
    "fn = os.path.join(PATH, 'day1.txt')\n",
    "l = read_txt(fn)\n",
    "#print(l)\n",
    "pos0 = find_indices(l, 0)\n",
    "#print(pos0)\n",
    "\n",
    "result = []\n",
    "start = 0\n",
    "for pos in pos0:\n",
    "    s=0\n",
    "    for i in range(start, pos):\n",
    "        s=sum(l[start:pos])\n",
    "    result.append(s)\n",
    "    start=pos+1\n",
    "\n",
    "result.sort(reverse=True)\n",
    "print(result[0]+result[1]+result[2])"
   ]
  },
  {
   "cell_type": "code",
   "execution_count": 40,
   "id": "6055576d",
   "metadata": {},
   "outputs": [],
   "source": [
    "def solution(foldername, filename):\n",
    "    fn = os.path.join(PATH, foldername, filename)\n",
    "    l = read_txt(fn)\n",
    "    \n",
    "    pos = find_indices(l, 0)\n",
    "    res = []\n",
    "    start = 0\n",
    "    for pos in pos0:\n",
    "        s=0\n",
    "        for i in range(start, pos):\n",
    "            s=sum(l[start:pos])\n",
    "        res.append(s)\n",
    "        start=pos+1\n",
    "        \n",
    "    ans1 = max(res)\n",
    "    res.sort(reverse=True)\n",
    "    ans2 = sum(res[0:3])\n",
    "    return ans1, ans2\n"
   ]
  },
  {
   "cell_type": "code",
   "execution_count": 41,
   "id": "9063edbc",
   "metadata": {},
   "outputs": [
    {
     "name": "stdout",
     "output_type": "stream",
     "text": [
      "71471\n",
      "211189\n"
     ]
    }
   ],
   "source": [
    "ans1, ans2 = solution('', 'day1.txt')\n",
    "print(ans1)\n",
    "print(ans2)"
   ]
  },
  {
   "cell_type": "code",
   "execution_count": null,
   "id": "0ab0077b",
   "metadata": {},
   "outputs": [],
   "source": []
  }
 ],
 "metadata": {
  "kernelspec": {
   "display_name": "Python 3",
   "language": "python",
   "name": "python3"
  },
  "language_info": {
   "codemirror_mode": {
    "name": "ipython",
    "version": 3
   },
   "file_extension": ".py",
   "mimetype": "text/x-python",
   "name": "python",
   "nbconvert_exporter": "python",
   "pygments_lexer": "ipython3",
   "version": "3.9.5"
  }
 },
 "nbformat": 4,
 "nbformat_minor": 5
}
