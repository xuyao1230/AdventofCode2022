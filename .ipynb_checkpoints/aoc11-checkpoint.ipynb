{
 "cells": [
  {
   "cell_type": "code",
   "execution_count": null,
   "id": "74d8d48f",
   "metadata": {},
   "outputs": [],
   "source": [
    "import os \n",
    "import re\n",
    "import math\n",
    "import numpy as np\n",
    "\n",
    "PATH = '/Users/xuyaozhang/Desktop/AdventofCode2022/input'\n",
    "\n",
    "def read_txt(filename):\n",
    "    with open(filename) as data_file:\n",
    "            \n",
    "        lines = data_file.read().split('\\n\\n') \n",
    "        lines = [line.split('\\n') for line in lines]\n",
    "        \n",
    "    return lines \n"
   ]
  },
  {
   "cell_type": "code",
   "execution_count": null,
   "id": "2a8b714c",
   "metadata": {},
   "outputs": [],
   "source": [
    "file = read_txt(PATH+'/day11.txt')\n",
    "num = len(file)\n",
    "\n",
    "monkeys = [] \n",
    "monkeys2 = []\n",
    "\n",
    "operations = []\n",
    "test = []\n",
    "throw = []\n",
    "\n",
    "for idx, f in enumerate(file):\n",
    "    monkeys.append([int(num) for num in re.findall('\\d+', f[1])])\n",
    "    monkeys2.append([int(num) for num in re.findall('\\d+', f[1])])\n",
    "    operations.append(f[2].split('=')[1].lstrip())\n",
    "    test += [int(num) for num in re.findall('\\d+', f[3])]\n",
    "    throw.append((int(f[4][-1]), int(f[5][-1])))\n",
    "\n",
    "############################################ PART 1 ############################################\n",
    "inspections = [0 for i in range(num)] \n",
    "\n",
    "for r in range(20):\n",
    "    \n",
    "    for m in range(num):\n",
    "        for old in monkeys[m]:\n",
    "            inspections[m] += 1\n",
    "            new = math.floor(eval(operations[m])/3)\n",
    "            if new%test[m] == 0:\n",
    "                monkeys[throw[m][0]].append(new)\n",
    "            else:\n",
    "                monkeys[throw[m][1]].append(new)\n",
    "        monkeys[m] = []\n",
    "\n",
    "inspections.sort()\n",
    "print(\"answer 1:\")\n",
    "print(inspections[-1]*inspections[-2])\n",
    "\n",
    "############################################ PART 2 ############################################\n",
    "divisor = np.prod(test)\n",
    "inspections = [0 for i in range(num)] \n",
    "for r in range(10000):\n",
    "    for m in range(num):\n",
    "        for old in monkeys2[m]:\n",
    "            inspections[m] += 1\n",
    "            new = eval(operations[m])%divisor\n",
    "            if new%test[m] == 0:\n",
    "                monkeys2[throw[m][0]].append(new)\n",
    "            else:\n",
    "                monkeys2[throw[m][1]].append(new)\n",
    "        monkeys2[m] = []\n",
    "\n",
    "inspections.sort()\n",
    "print(\"answer 2:\")\n",
    "print(inspections[-1]*inspections[-2])"
   ]
  },
  {
   "cell_type": "code",
   "execution_count": null,
   "id": "ed53a613",
   "metadata": {},
   "outputs": [],
   "source": []
  }
 ],
 "metadata": {
  "kernelspec": {
   "display_name": "Python 3",
   "language": "python",
   "name": "python3"
  },
  "language_info": {
   "codemirror_mode": {
    "name": "ipython",
    "version": 3
   },
   "file_extension": ".py",
   "mimetype": "text/x-python",
   "name": "python",
   "nbconvert_exporter": "python",
   "pygments_lexer": "ipython3",
   "version": "3.9.5"
  }
 },
 "nbformat": 4,
 "nbformat_minor": 5
}
