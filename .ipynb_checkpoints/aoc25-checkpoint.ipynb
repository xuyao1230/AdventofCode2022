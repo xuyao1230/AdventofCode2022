{
 "cells": [
  {
   "cell_type": "code",
   "execution_count": null,
   "id": "738bb1d7",
   "metadata": {},
   "outputs": [],
   "source": [
    "import re\n",
    "from functools import cmp_to_key\n",
    "from collections import defaultdict, deque\n",
    "\n",
    "PATH = '/Users/xuyaozhang/Desktop/AdventofCode2022/input'\n",
    "\n",
    "\n",
    "def read_txt(filename):\n",
    "    with open(filename) as data_file:\n",
    "            \n",
    "        lines = data_file.read().split('\\n') \n",
    "        return lines\n",
    "    \n",
    "def cal_pow(base, power):\n",
    "    return base * pow(5, power)\n",
    "    \n",
    "def snafu_to_decimal(s, deco):\n",
    "    l = len(s)\n",
    "    res = 0\n",
    "    for i in range(l):\n",
    "        res += cal_pow(deco[s[i]], l-1-i)\n",
    "    return res\n",
    "\n",
    "\n",
    "\n",
    "#https://www.geeksforgeeks.org/python-program-to-covert-decimal-to-binary-number/\n",
    "def decimal_to_snafu(number, enc):\n",
    "    remainder = 0\n",
    "    if number > 0:\n",
    "        carry = 0\n",
    "        remainder = number % 5\n",
    "        if remainder in [3, 4]:\n",
    "            carry = 1\n",
    "        decimal_to_snafu(number // 5 + carry, enc)\n",
    "    print(enc[remainder], end = \"\")\n",
    "\n",
    "    "
   ]
  },
  {
   "cell_type": "code",
   "execution_count": null,
   "id": "1f2051c8",
   "metadata": {},
   "outputs": [],
   "source": [
    "read = read_txt(PATH+'/day25.txt')\n",
    "\n",
    "decoder = {\n",
    "    '0': 0,\n",
    "    '1': 1,\n",
    "    '2': 2,\n",
    "    '=': -2,\n",
    "    '-': -1,\n",
    "}\n",
    "\n",
    "encoder = {\n",
    "    0: '0',\n",
    "    1: '1',\n",
    "    2: '2',\n",
    "    3: '=',\n",
    "    4: '-',\n",
    "}\n",
    "\n",
    "decimal = 0\n",
    "for signal in read:\n",
    "    decimal += snafu_to_decimal(signal, decoder)\n",
    "    \n",
    "print(\"ans1 (remember to remove the first 0): \")\n",
    "decimal_to_snafu(decimal, encoder)"
   ]
  },
  {
   "cell_type": "code",
   "execution_count": null,
   "id": "d35dd20c",
   "metadata": {},
   "outputs": [],
   "source": []
  }
 ],
 "metadata": {
  "kernelspec": {
   "display_name": "Python 3",
   "language": "python",
   "name": "python3"
  },
  "language_info": {
   "codemirror_mode": {
    "name": "ipython",
    "version": 3
   },
   "file_extension": ".py",
   "mimetype": "text/x-python",
   "name": "python",
   "nbconvert_exporter": "python",
   "pygments_lexer": "ipython3",
   "version": "3.9.5"
  }
 },
 "nbformat": 4,
 "nbformat_minor": 5
}
