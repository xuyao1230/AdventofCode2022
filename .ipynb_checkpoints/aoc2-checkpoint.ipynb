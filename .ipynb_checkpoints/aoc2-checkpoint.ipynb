{
 "cells": [
  {
   "cell_type": "code",
   "execution_count": null,
   "id": "83158f23",
   "metadata": {},
   "outputs": [],
   "source": [
    "import os \n",
    "import pandas as pd\n",
    "\n",
    "PATH = '/Users/xuyaozhang/Desktop/AdventofCode2022/input/'\n",
    "score = {'A': 1, 'B': 2, 'C': 3, 'Y': 2, 'X': 1, 'Z': 3}\n",
    "play = {-2: 6, -1: 0, 0: 3, 1: 6, 2: 0}\n",
    "score_2 = {'X': 0, 'Y': 3, 'Z': 6}\n",
    "\n",
    "def read_txt(filename):\n",
    "    df = pd.read_csv(PATH+filename, header = None, sep = ' ', names = ['player1', 'player2'])\n",
    "    return df\n",
    "\n",
    "def round_2(row):\n",
    "    # X to loss, Y to draw, Z to win\n",
    "    if row['player2'] == 'X': \n",
    "        val = row['score1'] - 1 if row['score1'] != 1 else 3\n",
    "    elif row['player2'] == 'Y':\n",
    "        val = row['score1']\n",
    "    else:\n",
    "        val = row['score1'] + 1 if row['score1'] != 3 else 1\n",
    "    return val\n",
    "\n",
    "\n",
    "\n"
   ]
  },
  {
   "cell_type": "code",
   "execution_count": null,
   "id": "b9d42923",
   "metadata": {},
   "outputs": [],
   "source": [
    "def solution(filename):\n",
    "    df = read_txt(filename)\n",
    "    \n",
    "    df['score1'] = df['player1'].map(score)\n",
    "    df['score2'] = df['player2'].map(score)\n",
    "    df['result'] = df['score2'] + (df['score2'] - df['score1']).map(play)\n",
    "    \n",
    "    return df\n",
    "\n",
    "print(solution('day2.txt')['result'].sum())"
   ]
  },
  {
   "cell_type": "code",
   "execution_count": null,
   "id": "78f3217f",
   "metadata": {},
   "outputs": [],
   "source": [
    "def solution2(filename):\n",
    "    df = read_txt(filename)\n",
    "    \n",
    "    df['score1'] = df['player1'].map(score)\n",
    "    df['play2'] = df['player2'].map(score_2)\n",
    "    df['score2'] = df.apply(round_2, axis=1)\n",
    "    df['newresult'] = df['play2'] + df['score2']\n",
    "    \n",
    "    return df\n",
    "\n",
    "print(solution2('day2.txt')['newresult'].sum())"
   ]
  },
  {
   "cell_type": "code",
   "execution_count": null,
   "id": "5aacaa82",
   "metadata": {},
   "outputs": [],
   "source": []
  }
 ],
 "metadata": {
  "kernelspec": {
   "display_name": "Python 3",
   "language": "python",
   "name": "python3"
  },
  "language_info": {
   "codemirror_mode": {
    "name": "ipython",
    "version": 3
   },
   "file_extension": ".py",
   "mimetype": "text/x-python",
   "name": "python",
   "nbconvert_exporter": "python",
   "pygments_lexer": "ipython3",
   "version": "3.9.5"
  }
 },
 "nbformat": 4,
 "nbformat_minor": 5
}
