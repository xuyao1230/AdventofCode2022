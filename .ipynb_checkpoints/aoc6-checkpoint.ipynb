{
 "cells": [
  {
   "cell_type": "code",
   "execution_count": null,
   "id": "258a9d67",
   "metadata": {},
   "outputs": [],
   "source": [
    "import os \n",
    "import re\n",
    "import numpy as np\n",
    "\n",
    "PATH = '/Users/xuyaozhang/Desktop/AdventofCode2022/input'\n",
    "\n",
    "\n",
    "def read_txt(filename):\n",
    "    with open(filename) as file:\n",
    "        lines = file.readlines()\n",
    "\n",
    "    return lines\n",
    "\n",
    "\n",
    "\n",
    "def check_duplicate(s, uniquelen):\n",
    "    duplicate = False\n",
    "    unique = set(s)\n",
    "    if len(unique) == uniquelen:\n",
    "        duplicate = True\n",
    "    return duplicate"
   ]
  },
  {
   "cell_type": "code",
   "execution_count": null,
   "id": "2f44607b",
   "metadata": {},
   "outputs": [],
   "source": [
    "string = read_txt(PATH+\"/day6.txt\")[0]\n",
    "\n",
    "res = 0\n",
    "for i in range(0, len(string)-4):\n",
    "    if check_duplicate(string[i:i+4], 4):\n",
    "        res = i + 4\n",
    "        print(res)\n",
    "        break\n",
    "    \n",
    "    \n",
    "res2 = 0\n",
    "for i in range(0, len(string)-14):\n",
    "    if check_duplicate(string[i:i+14], 14):\n",
    "        res2 = i + 14\n",
    "        print(res2)\n",
    "        break\n",
    "    "
   ]
  }
 ],
 "metadata": {
  "kernelspec": {
   "display_name": "Python 3",
   "language": "python",
   "name": "python3"
  },
  "language_info": {
   "codemirror_mode": {
    "name": "ipython",
    "version": 3
   },
   "file_extension": ".py",
   "mimetype": "text/x-python",
   "name": "python",
   "nbconvert_exporter": "python",
   "pygments_lexer": "ipython3",
   "version": "3.9.5"
  }
 },
 "nbformat": 4,
 "nbformat_minor": 5
}
