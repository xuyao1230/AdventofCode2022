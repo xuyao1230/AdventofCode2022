{
 "cells": [
  {
   "cell_type": "code",
   "execution_count": 6,
   "id": "766ab31b",
   "metadata": {},
   "outputs": [
    {
     "ename": "SyntaxError",
     "evalue": "invalid syntax (<ipython-input-6-710beb7ff0f3>, line 6)",
     "output_type": "error",
     "traceback": [
      "\u001b[0;36m  File \u001b[0;32m\"<ipython-input-6-710beb7ff0f3>\"\u001b[0;36m, line \u001b[0;32m6\u001b[0m\n\u001b[0;31m    return p.split('-') for p in x.split(',')\u001b[0m\n\u001b[0m                        ^\u001b[0m\n\u001b[0;31mSyntaxError\u001b[0m\u001b[0;31m:\u001b[0m invalid syntax\n"
     ]
    }
   ],
   "source": [
    "import os \n",
    "import numpy as np\n",
    "\n",
    "PATH = '/Users/xuyaozhang/Desktop/AdventofCode2022/input'\n",
    "def split_string(x):\n",
    "    return [p.split('-') for p in x.split(',')]\n",
    "\n",
    "def read_txt(filename):\n",
    "    with open(filename) as file:\n",
    "        lines = file.readlines()\n",
    "        lines = [split_string(line.rstrip()) for line in lines]\n",
    "\n",
    "    return lines \n",
    "\n",
    "def containsOrNot(line):\n",
    "    contain = False\n",
    "    if (line[0][0] >= line[1][0] and line[0][1] <= line[1][0]) or (line[0][0] <= line[1][0] and line[0][1] >= line[1][0]):\n",
    "        contain = True\n",
    "    \n",
    "    return contain\n",
    "    \n",
    "    \n",
    "    \n",
    "    \n",
    "    \n",
    "    \n",
    "    "
   ]
  },
  {
   "cell_type": "code",
   "execution_count": 5,
   "id": "0959a1f8",
   "metadata": {},
   "outputs": [
    {
     "name": "stdout",
     "output_type": "stream",
     "text": [
      "[[['2', '4'], ['6', '8']], [['2', '3'], ['4', '5']], [['5', '7'], ['7', '9']], [['2', '8'], ['3', '7']], [['6', '6'], ['4', '6']], [['2', '6'], ['4', '8']]]\n"
     ]
    }
   ],
   "source": [
    "l = read_txt(PATH+\"/day4.txt\")\n",
    "print(l)"
   ]
  },
  {
   "cell_type": "code",
   "execution_count": null,
   "id": "46238d24",
   "metadata": {},
   "outputs": [],
   "source": []
  }
 ],
 "metadata": {
  "kernelspec": {
   "display_name": "Python 3",
   "language": "python",
   "name": "python3"
  },
  "language_info": {
   "codemirror_mode": {
    "name": "ipython",
    "version": 3
   },
   "file_extension": ".py",
   "mimetype": "text/x-python",
   "name": "python",
   "nbconvert_exporter": "python",
   "pygments_lexer": "ipython3",
   "version": "3.9.5"
  }
 },
 "nbformat": 4,
 "nbformat_minor": 5
}
