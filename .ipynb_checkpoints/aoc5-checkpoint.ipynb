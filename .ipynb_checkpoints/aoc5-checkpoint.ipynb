{
 "cells": [
  {
   "cell_type": "code",
   "execution_count": null,
   "id": "611c0dc2",
   "metadata": {},
   "outputs": [],
   "source": [
    "import os \n",
    "import re\n",
    "import numpy as np\n",
    "\n",
    "PATH = '/Users/xuyaozhang/Desktop/AdventofCode2022/input'\n",
    "\n",
    "def get_input(li, rows, columns):\n",
    "    stacks=[]\n",
    "    steps=[]\n",
    "    for i in li:\n",
    "        if i.startswith('move'):\n",
    "            steps.append([int(num) for num in re.findall('\\d+', i)])\n",
    "        elif i != \"\\n\" and not i.startswith(' 1'):\n",
    "            stack = []\n",
    "            for c in range(1, columns*4, 4):\n",
    "                stack.append(i[c])\n",
    "            stacks.append(stack)\n",
    "    return stacks, steps\n",
    "    \n",
    "    \n",
    "            \n",
    "\n",
    "\n",
    "def read_txt(filename):\n",
    "    with open(filename) as file:\n",
    "        lines = file.readlines()\n",
    "\n",
    "    return lines\n",
    "\n",
    "\n",
    "\n",
    "def perform(stacks, action, reverse):\n",
    "        chars = stacks[action[1]-1][0:action[0]]\n",
    "        if reverse:\n",
    "            chars.reverse()\n",
    "        stacks[action[2]-1] = chars + stacks[action[2]-1] \n",
    "        stacks[action[1]-1] = stacks[action[1]-1][action[0]:]\n",
    "        return stacks"
   ]
  },
  {
   "cell_type": "code",
   "execution_count": null,
   "id": "1c669209",
   "metadata": {},
   "outputs": [],
   "source": [
    "l = read_txt(PATH+\"/day5.txt\")\n",
    "\n",
    "stack, steps = get_input(l, 8, 9)\n",
    "\n",
    "res =  np.array(stack).T.tolist() \n",
    "res = [[i for a,i in enumerate(t) if i!=' '] for t in res]\n",
    "\n",
    "for step in steps:\n",
    "    res = perform(res, step, True)  # True for first part, False for second part\n",
    "\n",
    "\n",
    "res_str = \"\"\n",
    "for s in res:\n",
    "    res_str += s[0]\n",
    "    \n",
    "print(res_str)"
   ]
  }
 ],
 "metadata": {
  "kernelspec": {
   "display_name": "Python 3",
   "language": "python",
   "name": "python3"
  },
  "language_info": {
   "codemirror_mode": {
    "name": "ipython",
    "version": 3
   },
   "file_extension": ".py",
   "mimetype": "text/x-python",
   "name": "python",
   "nbconvert_exporter": "python",
   "pygments_lexer": "ipython3",
   "version": "3.9.5"
  }
 },
 "nbformat": 4,
 "nbformat_minor": 5
}
