{
 "cells": [
  {
   "cell_type": "code",
   "execution_count": 38,
   "id": "f8aab600",
   "metadata": {},
   "outputs": [],
   "source": [
    "import os\n",
    "import numpy as np\n",
    "\n",
    "PATH = '/Users/xuyaozhang/Desktop/AdventofCode2022/input/'\n",
    "\n",
    "def read_txt(filename):\n",
    "    with open(filename) as file:\n",
    "        lines = file.readlines()\n",
    "        lines = [line.rstrip().split(\" \") for line in lines]\n",
    "\n",
    "    return lines\n",
    "\n",
    "def register(x, cmd, loop):\n",
    "    if loop == 0:\n",
    "        loop = 1\n",
    "        return x, loop\n",
    "    else:\n",
    "        x = x + int(cmd[1])\n",
    "        return x, 0\n",
    "        "
   ]
  },
  {
   "cell_type": "code",
   "execution_count": 39,
   "id": "1bc627e6",
   "metadata": {},
   "outputs": [
    {
     "name": "stdout",
     "output_type": "stream",
     "text": [
      "11960\n",
      "####...##..##..####.###...##..#....#..#.\n",
      "#.......#.#..#.#....#..#.#..#.#....#..#.\n",
      "###.....#.#....###..#..#.#....#....####.\n",
      "#.......#.#....#....###..#.##.#....#..#.\n",
      "#....#..#.#..#.#....#....#..#.#....#..#.\n",
      "####..##...##..#....#.....###.####.#..#.\n"
     ]
    }
   ],
   "source": [
    "signals = read_txt(PATH+'day10.txt')\n",
    "############################################ PART 1 ############################################\n",
    "x = 1\n",
    "cycles = [19, 59, 99, 139, 179, 219]\n",
    "res = []\n",
    "\n",
    "s = 0\n",
    "loop = 0\n",
    "i = 0\n",
    "while i <= cycles[-1]:\n",
    "    cmd = signals[s]\n",
    "    if i in cycles:\n",
    "        res.append(x * (i+1))\n",
    "    if len(cmd) == 1:\n",
    "        s += 1\n",
    "        \n",
    "    else:\n",
    "        x, loop = register(x, cmd, loop)\n",
    "        if loop == 0:\n",
    "            s += 1\n",
    "    \n",
    "        \n",
    "    i += 1\n",
    "        \n",
    "print(sum(res))\n",
    "\n",
    "############################################ PART 2 ############################################   \n",
    "\n",
    "x = 1\n",
    "cycles = [39, 79, 119, 159, 199, 239]\n",
    "res = []\n",
    "\n",
    "s = 0\n",
    "loop = 0\n",
    "i = 0\n",
    "\n",
    "while i <= cycles[-1]:\n",
    "    cmd = signals[s]\n",
    "    if i-40*((i+1)//40) in [x-1, x, x+1]:\n",
    "        res.append('#')\n",
    "    else:\n",
    "        res.append('.')\n",
    "    \n",
    "    if len(cmd) == 1:\n",
    "        s += 1\n",
    "        \n",
    "    else:\n",
    "        x, loop = register(x, cmd, loop)\n",
    "        if loop == 0:\n",
    "            s += 1\n",
    "    \n",
    "        \n",
    "    i += 1\n",
    "        \n",
    "\n",
    "for i in range(0, cycles[-1]+1):\n",
    "    if i in cycles:\n",
    "        print(res[i])\n",
    "    else:\n",
    "        print(res[i], end = '')\n",
    "    \n",
    "#EJCFPGLH"
   ]
  },
  {
   "cell_type": "code",
   "execution_count": null,
   "id": "1efca944",
   "metadata": {},
   "outputs": [],
   "source": []
  }
 ],
 "metadata": {
  "kernelspec": {
   "display_name": "Python 3",
   "language": "python",
   "name": "python3"
  },
  "language_info": {
   "codemirror_mode": {
    "name": "ipython",
    "version": 3
   },
   "file_extension": ".py",
   "mimetype": "text/x-python",
   "name": "python",
   "nbconvert_exporter": "python",
   "pygments_lexer": "ipython3",
   "version": "3.9.5"
  }
 },
 "nbformat": 4,
 "nbformat_minor": 5
}
