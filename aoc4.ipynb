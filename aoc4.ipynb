{
 "cells": [
  {
   "cell_type": "code",
   "execution_count": null,
   "id": "5f963404",
   "metadata": {},
   "outputs": [],
   "source": [
    "import os \n",
    "import numpy as np\n",
    "\n",
    "PATH = '/Users/xuyaozhang/Desktop/AdventofCode2022/input'\n",
    "def split_string(x):\n",
    "    return [p.split('-') for p in x.split(',')]\n",
    "\n",
    "def read_txt(filename):\n",
    "    with open(filename) as file:\n",
    "        lines = file.readlines()\n",
    "        lines = [split_string(line.rstrip()) for line in lines]\n",
    "\n",
    "    return lines \n",
    "\n",
    "def containsOrNot(line):\n",
    "    contain = 0\n",
    "    \n",
    "    if (int(line[0][0]) >= int(line[1][0]) and int(line[0][1]) <= int(line[1][1])) or (int(line[0][0]) <= int(line[1][0]) and int(line[0][1]) >= int(line[1][1])):\n",
    "        contain = 1\n",
    "    \n",
    "    return contain\n",
    "\n",
    "def overlapOrNot(line):\n",
    "    overlap = 1\n",
    "    \n",
    "    if (int(line[0][0]) > int(line[1][1])) or (int(line[0][1]) < int(line[1][0])):\n",
    "        overlap = 0\n",
    "    \n",
    "    return overlap\n",
    "    \n",
    "    \n",
    "    \n",
    "    \n",
    "    \n",
    "    \n",
    "    "
   ]
  },
  {
   "cell_type": "code",
   "execution_count": null,
   "id": "bcd76740",
   "metadata": {},
   "outputs": [],
   "source": [
    "l = read_txt(PATH+\"/day4.txt\")\n",
    "res=[]\n",
    "res2=[]\n",
    "for pair in l:\n",
    "    res.append(containsOrNot(pair))\n",
    "    res2.append(overlapOrNot(pair))\n",
    "print(sum(res))\n",
    "print(sum(res2))"
   ]
  }
 ],
 "metadata": {
  "kernelspec": {
   "display_name": "Python 3",
   "language": "python",
   "name": "python3"
  },
  "language_info": {
   "codemirror_mode": {
    "name": "ipython",
    "version": 3
   },
   "file_extension": ".py",
   "mimetype": "text/x-python",
   "name": "python",
   "nbconvert_exporter": "python",
   "pygments_lexer": "ipython3",
   "version": "3.9.5"
  }
 },
 "nbformat": 4,
 "nbformat_minor": 5
}
