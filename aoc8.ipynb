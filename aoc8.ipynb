{
 "cells": [
  {
   "cell_type": "code",
   "execution_count": null,
   "id": "ec0ecd59",
   "metadata": {},
   "outputs": [],
   "source": [
    "import os\n",
    "import numpy as np\n",
    "\n",
    "PATH = '/Users/xuyaozhang/Desktop/AdventofCode2022/input/'\n",
    "\n",
    "def read_txt(filename):\n",
    "    with open(filename) as file:\n",
    "        lines = file.readlines()\n",
    "        lines = [line.rstrip() for line in lines]\n",
    "        columns = len(lines[0])\n",
    "        rows = len(lines)\n",
    "        new_list = []\n",
    "        for line in lines:\n",
    "            for c in line:\n",
    "                new_list.append(int(c))\n",
    "        \n",
    "        list2D = np.array(new_list).reshape(rows, columns).tolist()\n",
    "\n",
    "    return columns, rows, list2D \n",
    "\n",
    "def get_trees_between(indexr, indexc, arr, rows, columns):\n",
    "    height = arr[indexr][indexc]\n",
    "    up = [arr[r][indexc] for r in range(0, indexr+1)]\n",
    "    down = [arr[r][indexc] for r in range(indexr, rows)]\n",
    "    left = [arr[indexr][c] for c in range(0, indexc+1)]\n",
    "    right = [arr[indexr][c] for c in range(indexc, columns)]\n",
    "    return height, up, down, left, right\n",
    "\n",
    "def check_visible(height, trees):\n",
    "    if height == max(trees) and trees.count(height) == 1:\n",
    "        return True\n",
    "    else:\n",
    "        return False\n",
    "\n",
    "def calculate(num, li):\n",
    "    res = 1\n",
    "    for i in range(len(li)-2, 0, -1):\n",
    "        if li[i] >= num:\n",
    "            return res\n",
    "        else:\n",
    "            res =  res+1\n",
    "            \n",
    "    return res\n",
    "\n",
    "def scenic_score(height, up, down, left, right):\n",
    "    down.reverse()\n",
    "    right.reverse()\n",
    "    return calculate(height, up) * calculate(height, down) * calculate(height, left) * calculate(height, right)"
   ]
  },
  {
   "cell_type": "code",
   "execution_count": null,
   "id": "4b69c4c1",
   "metadata": {},
   "outputs": [],
   "source": [
    "column, row, l = read_txt(PATH+'day8.txt')\n",
    "outer_visible = column*2 + (row-2)*2\n",
    "inner_visible = 0\n",
    "\n",
    "score = []\n",
    "\n",
    "for r in range(row):\n",
    "    for c in range(column):\n",
    "        if r == 0 or c == 0 or r == row-1 or c == column-1:\n",
    "            score.append(0)\n",
    "        \n",
    "        else:\n",
    "            height, up, down, left, right = get_trees_between(r,c,l,row,column)\n",
    "            score.append(scenic_score(height, up, down, left, right))\n",
    "            if check_visible(height, up) or check_visible(height, down) or check_visible(height, left) or check_visible(height, right):\n",
    "                inner_visible += 1\n",
    "            \n",
    "\n",
    "print(outer_visible+inner_visible) # part 1\n",
    "print(max(score)) # part 2\n"
   ]
  },
  {
   "cell_type": "code",
   "execution_count": null,
   "id": "a44c4ba7",
   "metadata": {},
   "outputs": [],
   "source": []
  }
 ],
 "metadata": {
  "kernelspec": {
   "display_name": "Python 3",
   "language": "python",
   "name": "python3"
  },
  "language_info": {
   "codemirror_mode": {
    "name": "ipython",
    "version": 3
   },
   "file_extension": ".py",
   "mimetype": "text/x-python",
   "name": "python",
   "nbconvert_exporter": "python",
   "pygments_lexer": "ipython3",
   "version": "3.9.5"
  }
 },
 "nbformat": 4,
 "nbformat_minor": 5
}
